{
  "nbformat": 4,
  "nbformat_minor": 0,
  "metadata": {
    "colab": {
      "provenance": [],
      "authorship_tag": "ABX9TyMLS+SnIImLxXHffXPF0Bv4",
      "include_colab_link": true
    },
    "kernelspec": {
      "name": "python3",
      "display_name": "Python 3"
    },
    "language_info": {
      "name": "python"
    }
  },
  "cells": [
    {
      "cell_type": "markdown",
      "metadata": {
        "id": "view-in-github",
        "colab_type": "text"
      },
      "source": [
        "<a href=\"https://colab.research.google.com/github/Manasa1056/pythno/blob/main/2205a21056_ass_05_.ipynb\" target=\"_parent\"><img src=\"https://colab.research.google.com/assets/colab-badge.svg\" alt=\"Open In Colab\"/></a>"
      ]
    },
    {
      "cell_type": "code",
      "source": [
        "import tgnpdcl\n",
        "pu=int(input(\"enter previs unit\"))\n",
        "cu=int(input(\"enter current units\"))\n",
        "type=int(input(\"0:res,1:com,2:adv\"))\n",
        "u=pu-cu\n",
        "if(type==0):\n",
        "  [ec,fc,cc,ed,bill_amount]=tgnpdcl.res(pu,cu)\n",
        "if(type==1):\n",
        "  [ec,fc,cc,ed,bill_amount]=tgnpdcl.com(pu,cu)\n",
        "if(type==2):\n",
        "  [ec,fc,cc,ed,bill_amount]=tgnpdcl.adv(pu,cu)\n",
        "\n",
        "from pytz import timezone\n",
        "from datetime import datetime\n",
        "ind_time=datetime.now(timezone('asia/kolkata'))\n",
        "\n",
        "print(\"============================\")\n",
        "print(\"       TGNPDCL              \")\n",
        "print(ind_time)\n",
        "print(\"============================\")\n",
        "print(\"previous units=\",pu)\n",
        "print(\"current units=\",cu)\n",
        "print(\"units consumed=\",u)\n",
        "print(\"energy charges=\",ec)\n",
        "print(\"fixed charges=\",fc)\n",
        "print(\"customer charges=\",cc)\n",
        "print(\"duty charges=\",ed)\n",
        "print(\"bill_amount=\",bill_amount)\n",
        "print(\"===========================\")"
      ],
      "metadata": {
        "colab": {
          "base_uri": "https://localhost:8080/"
        },
        "id": "2IAiSB9mf3tq",
        "outputId": "aaad927e-5eaf-4af5-e14b-d7b83e3a88c3"
      },
      "execution_count": 2,
      "outputs": [
        {
          "output_type": "stream",
          "name": "stdout",
          "text": [
            "enter previs unit7144\n",
            "enter current units7183\n",
            "0:res,1:com,2:adv0\n",
            "============================\n",
            "       TGNPDCL              \n",
            "2024-09-23 16:34:50.976220+05:30\n",
            "============================\n",
            "previous units= 7144\n",
            "current units= 7183\n",
            "units consumed= -39\n",
            "energy charges= 76.05\n",
            "fixed charges= 10\n",
            "customer charges= 40\n",
            "duty charges= 2.34\n",
            "bill_amount= 128.39\n",
            "===========================\n"
          ]
        }
      ]
    }
  ]
}